{
  "cells": [
    {
      "cell_type": "markdown",
      "metadata": {
        "id": "GpzJc59Ta1xr"
      },
      "source": [
        "# **The fourth in-class-exercise (40 points in total, 03/29/2022)**"
      ]
    },
    {
      "cell_type": "markdown",
      "metadata": {
        "id": "FyL_aR1Qa1xs"
      },
      "source": [
        "Question description: Please use the text corpus you collected in your last in-class-exercise for this exercise. Perform the following tasks:"
      ]
    },
    {
      "cell_type": "markdown",
      "metadata": {
        "id": "uKVSPkoOa1xt"
      },
      "source": [
        "## (1) (10 points) Generate K topics by using LDA, the number of topics K should be decided by the coherence score, then summarize what are the topics. You may refer the code here: \n",
        "\n",
        "https://www.machinelearningplus.com/nlp/topic-modeling-gensim-python/"
      ]
    },
    {
      "cell_type": "code",
      "execution_count": null,
      "metadata": {
        "colab": {
          "base_uri": "https://localhost:8080/"
        },
        "id": "g1UVaPZMa1xt",
        "outputId": "8bd5a9d6-174c-47c7-d23f-442e6d4de315"
      },
      "outputs": [
        {
          "output_type": "stream",
          "name": "stdout",
          "text": [
            "https://www.flipkart.com/redmi-note-4-black-64-gb/p/itmeqe48766xqzb7?pid=MOBEQ98TABTWXGTD&lid=LSTMOBEQ98TABTWXGTDPJUVGA&marketplace=FLIPKART&q=redmi+note+4+&store=tyy%2F4io&srno=s_1_7&otracker=search&otracker1=search&fm=Search&iid=bfd42768-e720-4ac8-bcbc-c0cf7e8ca895.MOBEQ98TABTWXGTD.SEARCH&ppt=hp&ppn=homepage&ssid=xezpoill605nku0w1649043166705&qH=f750e5745556e74e1\n",
            "https://www.flipkart.com/redmi-note-4-black-64-gb/p/itmeqe48766xqzb7?pid=MOBEQ98TABTWXGTD&lid=LSTMOBEQ98TABTWXGTDPJUVGA&marketplace=FLIPKART&q=redmi+note+4+&store=tyy%2F4io&srno=s_1_7&otracker=search&otracker1=search&fm=Search&iid=bfd42768-e720-4ac8-bcbc-c0cf7e8ca895.MOBEQ98TABTWXGTD.SEARCH&ppt=hp&ppn=homepage&ssid=xezpoill605nku0w1649043166705&qH=f750e5745556e74e2\n",
            "https://www.flipkart.com/redmi-note-4-black-64-gb/p/itmeqe48766xqzb7?pid=MOBEQ98TABTWXGTD&lid=LSTMOBEQ98TABTWXGTDPJUVGA&marketplace=FLIPKART&q=redmi+note+4+&store=tyy%2F4io&srno=s_1_7&otracker=search&otracker1=search&fm=Search&iid=bfd42768-e720-4ac8-bcbc-c0cf7e8ca895.MOBEQ98TABTWXGTD.SEARCH&ppt=hp&ppn=homepage&ssid=xezpoill605nku0w1649043166705&qH=f750e5745556e74e3\n",
            "https://www.flipkart.com/redmi-note-4-black-64-gb/p/itmeqe48766xqzb7?pid=MOBEQ98TABTWXGTD&lid=LSTMOBEQ98TABTWXGTDPJUVGA&marketplace=FLIPKART&q=redmi+note+4+&store=tyy%2F4io&srno=s_1_7&otracker=search&otracker1=search&fm=Search&iid=bfd42768-e720-4ac8-bcbc-c0cf7e8ca895.MOBEQ98TABTWXGTD.SEARCH&ppt=hp&ppn=homepage&ssid=xezpoill605nku0w1649043166705&qH=f750e5745556e74e4\n",
            "https://www.flipkart.com/redmi-note-4-black-64-gb/p/itmeqe48766xqzb7?pid=MOBEQ98TABTWXGTD&lid=LSTMOBEQ98TABTWXGTDPJUVGA&marketplace=FLIPKART&q=redmi+note+4+&store=tyy%2F4io&srno=s_1_7&otracker=search&otracker1=search&fm=Search&iid=bfd42768-e720-4ac8-bcbc-c0cf7e8ca895.MOBEQ98TABTWXGTD.SEARCH&ppt=hp&ppn=homepage&ssid=xezpoill605nku0w1649043166705&qH=f750e5745556e74e5\n",
            "https://www.flipkart.com/redmi-note-4-black-64-gb/p/itmeqe48766xqzb7?pid=MOBEQ98TABTWXGTD&lid=LSTMOBEQ98TABTWXGTDPJUVGA&marketplace=FLIPKART&q=redmi+note+4+&store=tyy%2F4io&srno=s_1_7&otracker=search&otracker1=search&fm=Search&iid=bfd42768-e720-4ac8-bcbc-c0cf7e8ca895.MOBEQ98TABTWXGTD.SEARCH&ppt=hp&ppn=homepage&ssid=xezpoill605nku0w1649043166705&qH=f750e5745556e74e6\n",
            "https://www.flipkart.com/redmi-note-4-black-64-gb/p/itmeqe48766xqzb7?pid=MOBEQ98TABTWXGTD&lid=LSTMOBEQ98TABTWXGTDPJUVGA&marketplace=FLIPKART&q=redmi+note+4+&store=tyy%2F4io&srno=s_1_7&otracker=search&otracker1=search&fm=Search&iid=bfd42768-e720-4ac8-bcbc-c0cf7e8ca895.MOBEQ98TABTWXGTD.SEARCH&ppt=hp&ppn=homepage&ssid=xezpoill605nku0w1649043166705&qH=f750e5745556e74e7\n",
            "https://www.flipkart.com/redmi-note-4-black-64-gb/p/itmeqe48766xqzb7?pid=MOBEQ98TABTWXGTD&lid=LSTMOBEQ98TABTWXGTDPJUVGA&marketplace=FLIPKART&q=redmi+note+4+&store=tyy%2F4io&srno=s_1_7&otracker=search&otracker1=search&fm=Search&iid=bfd42768-e720-4ac8-bcbc-c0cf7e8ca895.MOBEQ98TABTWXGTD.SEARCH&ppt=hp&ppn=homepage&ssid=xezpoill605nku0w1649043166705&qH=f750e5745556e74e8\n",
            "https://www.flipkart.com/redmi-note-4-black-64-gb/p/itmeqe48766xqzb7?pid=MOBEQ98TABTWXGTD&lid=LSTMOBEQ98TABTWXGTDPJUVGA&marketplace=FLIPKART&q=redmi+note+4+&store=tyy%2F4io&srno=s_1_7&otracker=search&otracker1=search&fm=Search&iid=bfd42768-e720-4ac8-bcbc-c0cf7e8ca895.MOBEQ98TABTWXGTD.SEARCH&ppt=hp&ppn=homepage&ssid=xezpoill605nku0w1649043166705&qH=f750e5745556e74e9\n",
            "https://www.flipkart.com/redmi-note-4-black-64-gb/p/itmeqe48766xqzb7?pid=MOBEQ98TABTWXGTD&lid=LSTMOBEQ98TABTWXGTDPJUVGA&marketplace=FLIPKART&q=redmi+note+4+&store=tyy%2F4io&srno=s_1_7&otracker=search&otracker1=search&fm=Search&iid=bfd42768-e720-4ac8-bcbc-c0cf7e8ca895.MOBEQ98TABTWXGTD.SEARCH&ppt=hp&ppn=homepage&ssid=xezpoill605nku0w1649043166705&qH=f750e5745556e74e10\n",
            "https://www.flipkart.com/redmi-note-4-black-64-gb/p/itmeqe48766xqzb7?pid=MOBEQ98TABTWXGTD&lid=LSTMOBEQ98TABTWXGTDPJUVGA&marketplace=FLIPKART&q=redmi+note+4+&store=tyy%2F4io&srno=s_1_7&otracker=search&otracker1=search&fm=Search&iid=bfd42768-e720-4ac8-bcbc-c0cf7e8ca895.MOBEQ98TABTWXGTD.SEARCH&ppt=hp&ppn=homepage&ssid=xezpoill605nku0w1649043166705&qH=f750e5745556e74e11\n",
            "https://www.flipkart.com/redmi-note-4-black-64-gb/p/itmeqe48766xqzb7?pid=MOBEQ98TABTWXGTD&lid=LSTMOBEQ98TABTWXGTDPJUVGA&marketplace=FLIPKART&q=redmi+note+4+&store=tyy%2F4io&srno=s_1_7&otracker=search&otracker1=search&fm=Search&iid=bfd42768-e720-4ac8-bcbc-c0cf7e8ca895.MOBEQ98TABTWXGTD.SEARCH&ppt=hp&ppn=homepage&ssid=xezpoill605nku0w1649043166705&qH=f750e5745556e74e12\n",
            "https://www.flipkart.com/redmi-note-4-black-64-gb/p/itmeqe48766xqzb7?pid=MOBEQ98TABTWXGTD&lid=LSTMOBEQ98TABTWXGTDPJUVGA&marketplace=FLIPKART&q=redmi+note+4+&store=tyy%2F4io&srno=s_1_7&otracker=search&otracker1=search&fm=Search&iid=bfd42768-e720-4ac8-bcbc-c0cf7e8ca895.MOBEQ98TABTWXGTD.SEARCH&ppt=hp&ppn=homepage&ssid=xezpoill605nku0w1649043166705&qH=f750e5745556e74e13\n",
            "https://www.flipkart.com/redmi-note-4-black-64-gb/p/itmeqe48766xqzb7?pid=MOBEQ98TABTWXGTD&lid=LSTMOBEQ98TABTWXGTDPJUVGA&marketplace=FLIPKART&q=redmi+note+4+&store=tyy%2F4io&srno=s_1_7&otracker=search&otracker1=search&fm=Search&iid=bfd42768-e720-4ac8-bcbc-c0cf7e8ca895.MOBEQ98TABTWXGTD.SEARCH&ppt=hp&ppn=homepage&ssid=xezpoill605nku0w1649043166705&qH=f750e5745556e74e14\n",
            "https://www.flipkart.com/redmi-note-4-black-64-gb/p/itmeqe48766xqzb7?pid=MOBEQ98TABTWXGTD&lid=LSTMOBEQ98TABTWXGTDPJUVGA&marketplace=FLIPKART&q=redmi+note+4+&store=tyy%2F4io&srno=s_1_7&otracker=search&otracker1=search&fm=Search&iid=bfd42768-e720-4ac8-bcbc-c0cf7e8ca895.MOBEQ98TABTWXGTD.SEARCH&ppt=hp&ppn=homepage&ssid=xezpoill605nku0w1649043166705&qH=f750e5745556e74e15\n",
            "https://www.flipkart.com/redmi-note-4-black-64-gb/p/itmeqe48766xqzb7?pid=MOBEQ98TABTWXGTD&lid=LSTMOBEQ98TABTWXGTDPJUVGA&marketplace=FLIPKART&q=redmi+note+4+&store=tyy%2F4io&srno=s_1_7&otracker=search&otracker1=search&fm=Search&iid=bfd42768-e720-4ac8-bcbc-c0cf7e8ca895.MOBEQ98TABTWXGTD.SEARCH&ppt=hp&ppn=homepage&ssid=xezpoill605nku0w1649043166705&qH=f750e5745556e74e16\n",
            "https://www.flipkart.com/redmi-note-4-black-64-gb/p/itmeqe48766xqzb7?pid=MOBEQ98TABTWXGTD&lid=LSTMOBEQ98TABTWXGTDPJUVGA&marketplace=FLIPKART&q=redmi+note+4+&store=tyy%2F4io&srno=s_1_7&otracker=search&otracker1=search&fm=Search&iid=bfd42768-e720-4ac8-bcbc-c0cf7e8ca895.MOBEQ98TABTWXGTD.SEARCH&ppt=hp&ppn=homepage&ssid=xezpoill605nku0w1649043166705&qH=f750e5745556e74e17\n",
            "$$$$$  name $$$$$ ['Rajib Mondal', 'Kamruj Jaman', 'Karan Verma', 'samarth Dixit', 'Sumit Arora', 'SWARUP RANJAN PANDA', 'Deepak  More', 'ved singh', 'Rajib Mondal', 'Kamruj Jaman', 'Karan Verma', 'samarth Dixit', 'Sumit Arora', 'SWARUP RANJAN PANDA', 'Deepak  More', 'ved singh', 'Rajib Mondal', 'Kamruj Jaman', 'Karan Verma', 'samarth Dixit', 'Sumit Arora', 'SWARUP RANJAN PANDA', 'Deepak  More', 'ved singh', 'Rajib Mondal', 'Kamruj Jaman', 'Karan Verma', 'samarth Dixit', 'Sumit Arora', 'SWARUP RANJAN PANDA', 'Deepak  More', 'ved singh', 'Rajib Mondal', 'Kamruj Jaman', 'Karan Verma', 'samarth Dixit', 'Sumit Arora', 'SWARUP RANJAN PANDA', 'Deepak  More', 'ved singh', 'Rajib Mondal', 'Kamruj Jaman', 'Karan Verma', 'samarth Dixit', 'Sumit Arora', 'SWARUP RANJAN PANDA', 'Deepak  More', 'ved singh', 'Rajib Mondal', 'Kamruj Jaman', 'Karan Verma', 'samarth Dixit', 'Sumit Arora', 'SWARUP RANJAN PANDA', 'Deepak  More', 'ved singh', 'Rajib Mondal', 'Kamruj Jaman', 'Karan Verma', 'samarth Dixit', 'Sumit Arora', 'SWARUP RANJAN PANDA', 'Deepak  More', 'ved singh', 'Rajib Mondal', 'Kamruj Jaman', 'Karan Verma', 'samarth Dixit', 'Sumit Arora', 'SWARUP RANJAN PANDA', 'Deepak  More', 'ved singh', 'Rajib Mondal', 'Kamruj Jaman', 'Karan Verma', 'samarth Dixit', 'Sumit Arora', 'SWARUP RANJAN PANDA', 'Deepak  More', 'ved singh', 'Rajib Mondal', 'Kamruj Jaman', 'Karan Verma', 'samarth Dixit', 'Sumit Arora', 'SWARUP RANJAN PANDA', 'Deepak  More', 'ved singh', 'Rajib Mondal', 'Kamruj Jaman', 'Karan Verma', 'samarth Dixit', 'Sumit Arora', 'SWARUP RANJAN PANDA', 'Deepak  More', 'ved singh', 'Rajib Mondal', 'Kamruj Jaman', 'Karan Verma', 'samarth Dixit', 'Sumit Arora', 'SWARUP RANJAN PANDA', 'Deepak  More', 'ved singh', 'Rajib Mondal', 'Kamruj Jaman', 'Karan Verma', 'samarth Dixit', 'Sumit Arora', 'SWARUP RANJAN PANDA', 'Deepak  More', 'ved singh', 'Rajib Mondal', 'Kamruj Jaman', 'Karan Verma', 'samarth Dixit', 'Sumit Arora', 'SWARUP RANJAN PANDA', 'Deepak  More', 'ved singh', 'Rajib Mondal', 'Kamruj Jaman', 'Karan Verma', 'samarth Dixit', 'Sumit Arora', 'SWARUP RANJAN PANDA', 'Deepak  More', 'ved singh']\n",
            "$$$$$  review_header $$$$ ['Wonderful', 'Great product', 'Super!', 'Worth every penny', 'Wonderful', 'Worth the money', 'Just one word \"AWESOMEEE \"', 'Simply awesome', 'Moderate', 'Super!', 'Wonderful', 'Great product', 'Super!', 'Worth every penny', 'Wonderful', 'Worth the money', 'Just one word \"AWESOMEEE \"', 'Simply awesome', 'Moderate', 'Super!', 'Wonderful', 'Great product', 'Super!', 'Worth every penny', 'Wonderful', 'Worth the money', 'Just one word \"AWESOMEEE \"', 'Simply awesome', 'Moderate', 'Super!', 'Wonderful', 'Great product', 'Super!', 'Worth every penny', 'Wonderful', 'Worth the money', 'Just one word \"AWESOMEEE \"', 'Simply awesome', 'Moderate', 'Super!', 'Wonderful', 'Great product', 'Super!', 'Worth every penny', 'Wonderful', 'Worth the money', 'Just one word \"AWESOMEEE \"', 'Simply awesome', 'Moderate', 'Super!', 'Wonderful', 'Great product', 'Super!', 'Worth every penny', 'Wonderful', 'Worth the money', 'Just one word \"AWESOMEEE \"', 'Simply awesome', 'Moderate', 'Super!', 'Wonderful', 'Great product', 'Super!', 'Worth every penny', 'Wonderful', 'Worth the money', 'Just one word \"AWESOMEEE \"', 'Simply awesome', 'Moderate', 'Super!', 'Wonderful', 'Great product', 'Super!', 'Worth every penny', 'Wonderful', 'Worth the money', 'Just one word \"AWESOMEEE \"', 'Simply awesome', 'Moderate', 'Super!', 'Wonderful', 'Great product', 'Super!', 'Worth every penny', 'Wonderful', 'Worth the money', 'Just one word \"AWESOMEEE \"', 'Simply awesome', 'Moderate', 'Super!', 'Wonderful', 'Great product', 'Super!', 'Worth every penny', 'Wonderful', 'Worth the money', 'Just one word \"AWESOMEEE \"', 'Simply awesome', 'Moderate', 'Super!', 'Wonderful', 'Great product', 'Super!', 'Worth every penny', 'Wonderful', 'Worth the money', 'Just one word \"AWESOMEEE \"', 'Simply awesome', 'Moderate', 'Super!', 'Wonderful', 'Great product', 'Super!', 'Worth every penny', 'Wonderful', 'Worth the money', 'Just one word \"AWESOMEEE \"', 'Simply awesome', 'Moderate', 'Super!', 'Wonderful', 'Great product', 'Super!', 'Worth every penny', 'Wonderful', 'Worth the money', 'Just one word \"AWESOMEEE \"', 'Simply awesome', 'Moderate', 'Super!', 'Wonderful', 'Great product', 'Super!', 'Worth every penny', 'Wonderful', 'Worth the money', 'Just one word \"AWESOMEEE \"', 'Simply awesome', 'Moderate', 'Super!', 'Wonderful', 'Great product', 'Super!', 'Worth every penny', 'Wonderful', 'Worth the money', 'Just one word \"AWESOMEEE \"', 'Simply awesome', 'Moderate', 'Super!', 'Wonderful', 'Great product', 'Super!', 'Worth every penny', 'Wonderful', 'Worth the money', 'Just one word \"AWESOMEEE \"', 'Simply awesome', 'Moderate', 'Super!']\n",
            "$$$$$  entire_text_review $$$$ []\n",
            "$$$$$  rating $$$$ [<div class=\"_3LWZlK _1BLPMq\">5<img class=\"_1wB99o\" src=\"data:image/svg+xml;base64,PHN2ZyB4bWxucz0iaHR0cDovL3d3dy53My5vcmcvMjAwMC9zdmciIHdpZHRoPSIxMyIgaGVpZ2h0PSIxMiI+PHBhdGggZmlsbD0iI0ZGRiIgZD0iTTYuNSA5LjQzOWwtMy42NzQgMi4yMy45NC00LjI2LTMuMjEtMi44ODMgNC4yNTQtLjQwNEw2LjUuMTEybDEuNjkgNC4wMSA0LjI1NC40MDQtMy4yMSAyLjg4Mi45NCA0LjI2eiIvPjwvc3ZnPg==\"/></div>, <div class=\"_3LWZlK _1BLPMq\">5<img class=\"_1wB99o\" src=\"data:image/svg+xml;base64,PHN2ZyB4bWxucz0iaHR0cDovL3d3dy53My5vcmcvMjAwMC9zdmciIHdpZHRoPSIxMyIgaGVpZ2h0PSIxMiI+PHBhdGggZmlsbD0iI0ZGRiIgZD0iTTYuNSA5LjQzOWwtMy42NzQgMi4yMy45NC00LjI2LTMuMjEtMi44ODMgNC4yNTQtLjQwNEw2LjUuMTEybDEuNjkgNC4wMSA0LjI1NC40MDQtMy4yMSAyLjg4Mi45NCA0LjI2eiIvPjwvc3ZnPg==\"/></div>, <div class=\"_3LWZlK _1BLPMq\">5<img class=\"_1wB99o\" src=\"data:image/svg+xml;base64,PHN2ZyB4bWxucz0iaHR0cDovL3d3dy53My5vcmcvMjAwMC9zdmciIHdpZHRoPSIxMyIgaGVpZ2h0PSIxMiI+PHBhdGggZmlsbD0iI0ZGRiIgZD0iTTYuNSA5LjQzOWwtMy42NzQgMi4yMy45NC00LjI2LTMuMjEtMi44ODMgNC4yNTQtLjQwNEw2LjUuMTEybDEuNjkgNC4wMSA0LjI1NC40MDQtMy4yMSAyLjg4Mi45NCA0LjI2eiIvPjwvc3ZnPg==\"/></div>, <div class=\"_3LWZlK _1BLPMq\">5<img class=\"_1wB99o\" src=\"data:image/svg+xml;base64,PHN2ZyB4bWxucz0iaHR0cDovL3d3dy53My5vcmcvMjAwMC9zdmciIHdpZHRoPSIxMyIgaGVpZ2h0PSIxMiI+PHBhdGggZmlsbD0iI0ZGRiIgZD0iTTYuNSA5LjQzOWwtMy42NzQgMi4yMy45NC00LjI2LTMuMjEtMi44ODMgNC4yNTQtLjQwNEw2LjUuMTEybDEuNjkgNC4wMSA0LjI1NC40MDQtMy4yMSAyLjg4Mi45NCA0LjI2eiIvPjwvc3ZnPg==\"/></div>, <div class=\"_3LWZlK _1BLPMq\">5<img class=\"_1wB99o\" src=\"data:image/svg+xml;base64,PHN2ZyB4bWxucz0iaHR0cDovL3d3dy53My5vcmcvMjAwMC9zdmciIHdpZHRoPSIxMyIgaGVpZ2h0PSIxMiI+PHBhdGggZmlsbD0iI0ZGRiIgZD0iTTYuNSA5LjQzOWwtMy42NzQgMi4yMy45NC00LjI2LTMuMjEtMi44ODMgNC4yNTQtLjQwNEw2LjUuMTEybDEuNjkgNC4wMSA0LjI1NC40MDQtMy4yMSAyLjg4Mi45NCA0LjI2eiIvPjwvc3ZnPg==\"/></div>, <div class=\"_3LWZlK _1BLPMq\">4<img class=\"_1wB99o\" src=\"data:image/svg+xml;base64,PHN2ZyB4bWxucz0iaHR0cDovL3d3dy53My5vcmcvMjAwMC9zdmciIHdpZHRoPSIxMyIgaGVpZ2h0PSIxMiI+PHBhdGggZmlsbD0iI0ZGRiIgZD0iTTYuNSA5LjQzOWwtMy42NzQgMi4yMy45NC00LjI2LTMuMjEtMi44ODMgNC4yNTQtLjQwNEw2LjUuMTEybDEuNjkgNC4wMSA0LjI1NC40MDQtMy4yMSAyLjg4Mi45NCA0LjI2eiIvPjwvc3ZnPg==\"/></div>, <div class=\"_3LWZlK _1BLPMq\">5<img class=\"_1wB99o\" src=\"data:image/svg+xml;base64,PHN2ZyB4bWxucz0iaHR0cDovL3d3dy53My5vcmcvMjAwMC9zdmciIHdpZHRoPSIxMyIgaGVpZ2h0PSIxMiI+PHBhdGggZmlsbD0iI0ZGRiIgZD0iTTYuNSA5LjQzOWwtMy42NzQgMi4yMy45NC00LjI2LTMuMjEtMi44ODMgNC4yNTQtLjQwNEw2LjUuMTEybDEuNjkgNC4wMSA0LjI1NC40MDQtMy4yMSAyLjg4Mi45NCA0LjI2eiIvPjwvc3ZnPg==\"/></div>, <div class=\"_3LWZlK _1BLPMq\">5<img class=\"_1wB99o\" src=\"data:image/svg+xml;base64,PHN2ZyB4bWxucz0iaHR0cDovL3d3dy53My5vcmcvMjAwMC9zdmciIHdpZHRoPSIxMyIgaGVpZ2h0PSIxMiI+PHBhdGggZmlsbD0iI0ZGRiIgZD0iTTYuNSA5LjQzOWwtMy42NzQgMi4yMy45NC00LjI2LTMuMjEtMi44ODMgNC4yNTQtLjQwNEw2LjUuMTEybDEuNjkgNC4wMSA0LjI1NC40MDQtMy4yMSAyLjg4Mi45NCA0LjI2eiIvPjwvc3ZnPg==\"/></div>, <div class=\"_3LWZlK _1BLPMq\">4<img class=\"_1wB99o\" src=\"data:image/svg+xml;base64,PHN2ZyB4bWxucz0iaHR0cDovL3d3dy53My5vcmcvMjAwMC9zdmciIHdpZHRoPSIxMyIgaGVpZ2h0PSIxMiI+PHBhdGggZmlsbD0iI0ZGRiIgZD0iTTYuNSA5LjQzOWwtMy42NzQgMi4yMy45NC00LjI2LTMuMjEtMi44ODMgNC4yNTQtLjQwNEw2LjUuMTEybDEuNjkgNC4wMSA0LjI1NC40MDQtMy4yMSAyLjg4Mi45NCA0LjI2eiIvPjwvc3ZnPg==\"/></div>, '5', '5', '5', '4', '5', '5', '4']\n",
            "$$$$$  dates_review $$$$ ['Arun  Deepak', 'Feb, 2017', 'Rajib Mondal', 'Feb, 2018', 'Kamruj Jaman', 'Feb, 2017', 'Karan Verma', 'Feb, 2017', 'samarth Dixit', 'Jan, 2017', 'Sumit Arora', 'Mar, 2017', 'SWARUP RANJAN PANDA', 'Feb, 2017', 'Deepak  More', 'May, 2017', 'ved singh', 'Apr, 2017', 'Arun  Deepak', 'Feb, 2017', 'Rajib Mondal', 'Feb, 2018', 'Kamruj Jaman', 'Feb, 2017', 'Karan Verma', 'Feb, 2017', 'samarth Dixit', 'Jan, 2017', 'Sumit Arora', 'Mar, 2017', 'SWARUP RANJAN PANDA', 'Feb, 2017', 'Deepak  More', 'May, 2017', 'ved singh', 'Apr, 2017', 'Arun  Deepak', 'Feb, 2017', 'Rajib Mondal', 'Feb, 2018', 'Kamruj Jaman', 'Feb, 2017', 'Karan Verma', 'Feb, 2017', 'samarth Dixit', 'Jan, 2017', 'Sumit Arora', 'Mar, 2017', 'SWARUP RANJAN PANDA', 'Feb, 2017', 'Deepak  More', 'May, 2017', 'ved singh', 'Apr, 2017', 'Arun  Deepak', 'Feb, 2017', 'Rajib Mondal', 'Feb, 2018', 'Kamruj Jaman', 'Feb, 2017', 'Karan Verma', 'Feb, 2017', 'samarth Dixit', 'Jan, 2017', 'Sumit Arora', 'Mar, 2017', 'SWARUP RANJAN PANDA', 'Feb, 2017', 'Deepak  More', 'May, 2017', 'ved singh', 'Apr, 2017', 'Arun  Deepak', 'Feb, 2017', 'Rajib Mondal', 'Feb, 2018', 'Kamruj Jaman', 'Feb, 2017', 'Karan Verma', 'Feb, 2017', 'samarth Dixit', 'Jan, 2017', 'Sumit Arora', 'Mar, 2017', 'SWARUP RANJAN PANDA', 'Feb, 2017', 'Deepak  More', 'May, 2017', 'ved singh', 'Apr, 2017', 'Arun  Deepak', 'Feb, 2017', 'Rajib Mondal', 'Feb, 2018', 'Kamruj Jaman', 'Feb, 2017', 'Karan Verma', 'Feb, 2017', 'samarth Dixit', 'Jan, 2017', 'Sumit Arora', 'Mar, 2017', 'SWARUP RANJAN PANDA', 'Feb, 2017', 'Deepak  More', 'May, 2017', 'ved singh', 'Apr, 2017', 'Arun  Deepak', 'Feb, 2017', 'Rajib Mondal', 'Feb, 2018', 'Kamruj Jaman', 'Feb, 2017', 'Karan Verma', 'Feb, 2017', 'samarth Dixit', 'Jan, 2017', 'Sumit Arora', 'Mar, 2017', 'SWARUP RANJAN PANDA', 'Feb, 2017', 'Deepak  More', 'May, 2017', 'ved singh', 'Apr, 2017', 'Arun  Deepak', 'Feb, 2017', 'Rajib Mondal', 'Feb, 2018', 'Kamruj Jaman', 'Feb, 2017', 'Karan Verma', 'Feb, 2017', 'samarth Dixit', 'Jan, 2017', 'Sumit Arora', 'Mar, 2017', 'SWARUP RANJAN PANDA', 'Feb, 2017', 'Deepak  More', 'May, 2017', 'ved singh', 'Apr, 2017', 'Arun  Deepak', 'Feb, 2017', 'Rajib Mondal', 'Feb, 2018', 'Kamruj Jaman', 'Feb, 2017', 'Karan Verma', 'Feb, 2017', 'samarth Dixit', 'Jan, 2017', 'Sumit Arora', 'Mar, 2017', 'SWARUP RANJAN PANDA', 'Feb, 2017', 'Deepak  More', 'May, 2017', 'ved singh', 'Apr, 2017', 'Arun  Deepak', 'Feb, 2017', 'Rajib Mondal', 'Feb, 2018', 'Kamruj Jaman', 'Feb, 2017', 'Karan Verma', 'Feb, 2017', 'samarth Dixit', 'Jan, 2017', 'Sumit Arora', 'Mar, 2017', 'SWARUP RANJAN PANDA', 'Feb, 2017', 'Deepak  More', 'May, 2017', 'ved singh', 'Apr, 2017', 'Arun  Deepak', 'Feb, 2017', 'Rajib Mondal', 'Feb, 2018', 'Kamruj Jaman', 'Feb, 2017', 'Karan Verma', 'Feb, 2017', 'samarth Dixit', 'Jan, 2017', 'Sumit Arora', 'Mar, 2017', 'SWARUP RANJAN PANDA', 'Feb, 2017', 'Deepak  More', 'May, 2017', 'ved singh', 'Apr, 2017', 'Arun  Deepak', 'Feb, 2017', 'Rajib Mondal', 'Feb, 2018', 'Kamruj Jaman', 'Feb, 2017', 'Karan Verma', 'Feb, 2017', 'samarth Dixit', 'Jan, 2017', 'Sumit Arora', 'Mar, 2017', 'SWARUP RANJAN PANDA', 'Feb, 2017', 'Deepak  More', 'May, 2017', 'ved singh', 'Apr, 2017', 'Arun  Deepak', 'Feb, 2017', 'Rajib Mondal', 'Feb, 2018', 'Kamruj Jaman', 'Feb, 2017', 'Karan Verma', 'Feb, 2017', 'samarth Dixit', 'Jan, 2017', 'Sumit Arora', 'Mar, 2017', 'SWARUP RANJAN PANDA', 'Feb, 2017', 'Deepak  More', 'May, 2017', 'ved singh', 'Apr, 2017', 'Arun  Deepak', 'Feb, 2017', 'Rajib Mondal', 'Feb, 2018', 'Kamruj Jaman', 'Feb, 2017', 'Karan Verma', 'Feb, 2017', 'samarth Dixit', 'Jan, 2017', 'Sumit Arora', 'Mar, 2017', 'SWARUP RANJAN PANDA', 'Feb, 2017', 'Deepak  More', 'May, 2017', 'ved singh', 'Apr, 2017', 'Arun  Deepak', 'Feb, 2017', 'Rajib Mondal', 'Feb, 2018', 'Kamruj Jaman', 'Feb, 2017', 'Karan Verma', 'Feb, 2017', 'samarth Dixit', 'Jan, 2017', 'Sumit Arora', 'Mar, 2017', 'SWARUP RANJAN PANDA', 'Feb, 2017', 'Deepak  More', 'May, 2017', 'ved singh', 'Apr, 2017', 'Arun  Deepak', 'Feb, 2017', 'Rajib Mondal', 'Feb, 2018', 'Kamruj Jaman', 'Feb, 2017', 'Karan Verma', 'Feb, 2017', 'samarth Dixit', 'Jan, 2017', 'Sumit Arora', 'Mar, 2017', 'SWARUP RANJAN PANDA', 'Feb, 2017', 'Deepak  More', 'May, 2017', 'ved singh', 'Apr, 2017']\n"
          ]
        }
      ],
      "source": [
        "# Write your code here\n",
        "\n",
        "from bs4 import BeautifulSoup as bs\n",
        "import requests\n",
        "import urllib.request\n",
        "  \n",
        "File = open(\"out.csv\", \"a\")\n",
        "  \n",
        "HEADERS = ({'User-Agent':\n",
        "           'Mozilla/5.0 (Macintosh; Intel Mac OS X 10_15_7) AppleWebKit/537.36 (KHTML, like Gecko) Chrome/92.0.4515.159 Safari/537.36',\n",
        "                           'Accept-Language': 'en-US, en;q=0.5'})\n",
        "\n",
        "name=[]\n",
        "review_header=[]\n",
        "rating=[]\n",
        "entire_text_review=[]\n",
        "dates_review=[]\n",
        "username_final=[]\n",
        "review_dates_final=[]\n",
        "\n",
        "for number in range(1,18):\n",
        "  link= 'https://www.flipkart.com/redmi-note-4-black-64-gb/p/itmeqe48766xqzb7?pid=MOBEQ98TABTWXGTD&lid=LSTMOBEQ98TABTWXGTDPJUVGA&marketplace=FLIPKART&q=redmi+note+4+&store=tyy%2F4io&srno=s_1_7&otracker=search&otracker1=search&fm=Search&iid=bfd42768-e720-4ac8-bcbc-c0cf7e8ca895.MOBEQ98TABTWXGTD.SEARCH&ppt=hp&ppn=homepage&ssid=xezpoill605nku0w1649043166705&qH=f750e5745556e74e'+ str(number)\n",
        "  print(link)\n",
        "  webpage = requests.get(link, headers=HEADERS)\n",
        "\n",
        "  soup = bs(webpage.content,'html.parser')\n",
        "  names= soup.find_all('p',class_='_2sc7ZR _2V5EHH')\n",
        "  \n",
        "  for i in range(2,len(names)):\n",
        "    name.append(names[i].get_text())\n",
        "  \n",
        "  title = soup.find_all('p',class_='_2-N8zT')\n",
        " \n",
        "  for i in range(0,len(title)):\n",
        "    review_header.append(title[i].get_text())\n",
        "\n",
        "  review_header[:] = [titles.lstrip('\\n') for titles in review_header] \n",
        "  review_header[:] = [titles.rstrip('\\n') for titles in review_header]\n",
        "  rating = soup.find_all('div',class_='_3LWZlK _1BLPMq')\n",
        "  \n",
        "  for i in range(2,len(rating)):\n",
        "    rating.append(rating[i].get_text())\n",
        "  review_text= soup.find_all('div',class_='_1H-bmy')\n",
        "  \n",
        "  for i in range(0,len(review_text)):\n",
        "    entire_text_review.append(review_text[i].get_text())\n",
        "  entire_text_review[:] = [reviews.lstrip('\\n') for reviews in entire_text_review]  \n",
        "  entire_text_review[:] = [reviews.rstrip('\\n') for reviews in entire_text_review]\n",
        "  review_date = soup.find_all('p',class_='_2sc7ZR')\n",
        "  \n",
        "  for i in range(2,len(review_date)):\n",
        "    dates_review.append(review_date[i].get_text())\n",
        "\n",
        "print(\"$$$$$  name $$$$$\",name)\n",
        "print(\"$$$$$  review_header $$$$\",review_header)\n",
        "print(\"$$$$$  entire_text_review $$$$\",entire_text_review)\n",
        "print(\"$$$$$  rating $$$$\",rating)\n",
        "print(\"$$$$$  dates_review $$$$\",dates_review)\n",
        "\n"
      ]
    },
    {
      "cell_type": "code",
      "source": [
        "!pip install --upgrade gensim"
      ],
      "metadata": {
        "id": "nXU4Mn3A2Ipw"
      },
      "execution_count": null,
      "outputs": []
    },
    {
      "cell_type": "code",
      "source": [
        "import spacy.cli\n",
        "spacy.cli.download(\"en\")\n",
        "\n",
        "import nltk\n",
        "nltk.download('stopwords')\n",
        "\n",
        "import os\n",
        "def install_java():\n",
        "  !apt-get install -y openjdk-8-jdk-headless -qq > /dev/null\n",
        "  os.environ[\"JAVA_HOME\"] = \"/usr/lib/jvm/java-8-openjdk-amd64\"\n",
        "  !java -version\n",
        "install_java()"
      ],
      "metadata": {
        "id": "MleI0lld3Nw3"
      },
      "execution_count": null,
      "outputs": []
    },
    {
      "cell_type": "code",
      "source": [
        "import re\n",
        "from pprint import pprint\n",
        "\n",
        "\n",
        "import gensim\n",
        "import gensim.corpora as corpora\n",
        "from gensim.utils import simple_preprocess\n",
        "from gensim.models import CoherenceModel\n",
        "\n",
        "\n",
        "import spacy\n",
        "\n",
        "import matplotlib.pyplot as plt\n",
        "%matplotlib inline"
      ],
      "metadata": {
        "id": "I205nkQL3V7h"
      },
      "execution_count": null,
      "outputs": []
    },
    {
      "cell_type": "code",
      "source": [
        ""
      ],
      "metadata": {
        "id": "pmZvYzxZ3WxM"
      },
      "execution_count": null,
      "outputs": []
    },
    {
      "cell_type": "markdown",
      "metadata": {
        "id": "CArykNeya1xu"
      },
      "source": [
        "## (2) (10 points) Generate K topics by using LSA, the number of topics K should be decided by the coherence score, then summarize what are the topics. You may refer the code here:\n",
        "\n",
        "https://www.datacamp.com/community/tutorials/discovering-hidden-topics-python"
      ]
    },
    {
      "cell_type": "code",
      "execution_count": null,
      "metadata": {
        "id": "4QaING0Qa1xu"
      },
      "outputs": [],
      "source": [
        "# Write your code here\n",
        "\n",
        "import os.path\n",
        "from gensim import corpora\n",
        "from nltk.stem.porter import PorterStemmer\n",
        "from gensim.models.coherencemodel import CoherenceModel\n",
        "import matplotlib.pyplot as plt\n",
        "from gensim.models import LsiModel\n",
        "from nltk.tokenize import RegexpTokenizer\n",
        "from nltk.corpus import stopwords\n",
        "\n",
        "import os.path\n",
        "from gensim import corpora\n",
        "from gensim.models import LsiModel\n",
        "from nltk.stem.porter import PorterStemmer\n",
        "from gensim.models.coherencemodel import CoherenceModel\n",
        "import matplotlib.pyplot as plt\n",
        "from nltk.tokenize import RegexpTokenizer\n",
        "from nltk.corpus import stopwords\n",
        "\n",
        "def load_data(path,file_name):\n",
        "  tokenizer = RegexpTokenizer(r'\\w+')\n",
        "  en_stop = set(stopwords.words('english'))\n",
        "  p_stemmer = PorterStemmer()\n",
        "\n",
        "\n",
        "\n",
        "\n",
        "\n"
      ]
    },
    {
      "cell_type": "markdown",
      "metadata": {
        "id": "oWvPT0aWa1xu"
      },
      "source": [
        "## (3) (10 points) Generate K topics by using  lda2vec, the number of topics K should be decided by the coherence score, then summarize what are the topics. You may refer the code here:\n",
        "\n",
        "https://nbviewer.org/github/cemoody/lda2vec/blob/master/examples/twenty_newsgroups/lda2vec/lda2vec.ipynb"
      ]
    },
    {
      "cell_type": "code",
      "execution_count": null,
      "metadata": {
        "id": "vDRGuGBIa1xv"
      },
      "outputs": [],
      "source": [
        "# Write your code here\n",
        "\n",
        "from lda2vec import preprocess, Corpus\n",
        "import matplotlib.pyplot as plt\n",
        "import numpy as np\n",
        "%matplotlib inline\n"
      ]
    },
    {
      "cell_type": "code",
      "source": [
        "import pyLDAvis\n",
        "pyLDAvis.enable_notebook()"
      ],
      "metadata": {
        "id": "xSLZT6wE5mp1"
      },
      "execution_count": null,
      "outputs": []
    },
    {
      "cell_type": "code",
      "source": [
        "npz = np.load(open('topics.pyldavis.npz', 'r'))\n",
        "dat = {k: v for (k, v) in npz.iteritems()}\n",
        "dat['vocab'] = dat['vocab'].tolist()"
      ],
      "metadata": {
        "id": "yCLMugd-5nlM"
      },
      "execution_count": null,
      "outputs": []
    },
    {
      "cell_type": "markdown",
      "metadata": {
        "id": "VsqWT6NSa1xv"
      },
      "source": [
        "## (4) (10 points) Generate K topics by using BERTopic, the number of topics K should be decided by the coherence score, then summarize what are the topics. You may refer the code here: \n",
        "\n",
        "https://colab.research.google.com/drive/1FieRA9fLdkQEGDIMYl0I3MCjSUKVF8C-?usp=sharing"
      ]
    },
    {
      "cell_type": "code",
      "execution_count": null,
      "metadata": {
        "id": "6YFWA0YPa1xw"
      },
      "outputs": [],
      "source": [
        "# Write your code here\n",
        "\n",
        "%%capture\n",
        "!pip install bertopic\n",
        "\n",
        "from sklearn.datasets import fetch_20newsgroups\n",
        "docs = fetch_20newsgroups(subset='all',  remove=('headers', 'footers', 'quotes'))['data']\n",
        "\n",
        "\n",
        "\n"
      ]
    },
    {
      "cell_type": "markdown",
      "metadata": {
        "id": "Qhw0HaEma1xw"
      },
      "source": [
        "## (5) (10 extra points) Compare the results generated by the four topic modeling algorithms, which one is better? You should explain the reasons in details."
      ]
    },
    {
      "cell_type": "code",
      "execution_count": null,
      "metadata": {
        "id": "WG7Ye9iPa1xw"
      },
      "outputs": [],
      "source": [
        "# Write your answer here (no code needed for this question)\n",
        "\n",
        "\n",
        "\n"
      ]
    }
  ],
  "metadata": {
    "kernelspec": {
      "display_name": "Python 3",
      "language": "python",
      "name": "python3"
    },
    "language_info": {
      "codemirror_mode": {
        "name": "ipython",
        "version": 3
      },
      "file_extension": ".py",
      "mimetype": "text/x-python",
      "name": "python",
      "nbconvert_exporter": "python",
      "pygments_lexer": "ipython3",
      "version": "3.8.5"
    },
    "colab": {
      "name": "In_class_exercise_04-2.ipynb",
      "provenance": [],
      "collapsed_sections": []
    }
  },
  "nbformat": 4,
  "nbformat_minor": 0
}