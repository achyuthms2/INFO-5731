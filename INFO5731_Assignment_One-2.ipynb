{
  "cells": [
    {
      "cell_type": "markdown",
      "metadata": {
        "id": "view-in-github"
      },
      "source": [
        "<a href=\"https://colab.research.google.com/github/unt-iialab/INFO5731_Spring2020/blob/master/Assignments/INFO5731_Assignment_One.ipynb\" target=\"_parent\"><img src=\"https://colab.research.google.com/assets/colab-badge.svg\" alt=\"Open In Colab\"/></a>"
      ]
    },
    {
      "cell_type": "markdown",
      "metadata": {
        "id": "Ryk8D1Q4Wsrp"
      },
      "source": [
        "# **INFO5731 Assignment One**"
      ]
    },
    {
      "cell_type": "markdown",
      "metadata": {
        "id": "90_NR8c5XGWc"
      },
      "source": [
        "# Question 1\n",
        "\n",
        "(20 points). Write a Python program to generate 12 random numbers between 1 and 100. Sort the list of numbers in ascending order and print it out. Sort the list of numbers in descending order and print it out. Calculate the average for the group and print it out."
      ]
    },
    {
      "cell_type": "code",
      "execution_count": 49,
      "metadata": {
        "colab": {
          "base_uri": "https://localhost:8080/"
        },
        "id": "5QX6bJjGWXY9",
        "outputId": "c659bbc7-a31e-4191-c21b-697e173e74ea"
      },
      "outputs": [
        {
          "output_type": "stream",
          "name": "stdout",
          "text": [
            "[1, 2, 11, 15, 23, 41, 48, 51, 52, 63, 79, 80]\n",
            "[80, 79, 63, 52, 51, 48, 41, 23, 15, 11, 2, 1]\n",
            "38.833333333333336\n"
          ]
        }
      ],
      "source": [
        "# Your code here\n",
        "import random\n",
        "res = 0\n",
        "ran = [random.randint(1,100) for i in range(12)]\n",
        "ran.sort()\n",
        "print(ran)\n",
        "ran.sort(reverse = True)\n",
        "print(ran)\n",
        "print(sum(ran)/len(ran))\n",
        "\n"
      ]
    },
    {
      "cell_type": "markdown",
      "metadata": {
        "id": "1F_PZdH9Sh49"
      },
      "source": [
        "# Question 2\n",
        "(25 points). Write a program that will do the following string formatting tasks:\n",
        "\n",
        "(1) Ask the user to enter two sentences.\n",
        "\n",
        "(2) Make each sentence into a list. Each element in the list should correspond to a word in the sentence. For example, if the sentence is \"Alas! Am I alive? This is my first python program\", the program should print out ['Alas, '!', 'Am', 'I', 'alive, '?', 'This', 'is', 'my', 'first', 'python', 'program'].\n",
        "\n",
        "(3) Compare the two sentences. Print out a list of words that occur in both sentences.\n",
        "\n",
        "(4) Remove any punctuation from the sentence and print it back out. It should remove at least the following characters, but it can remove more: period(“.”), comma (“,”), semicolon (“;”), and colon (“:”)\n",
        "\n",
        "(5) Count the number of vowels in the sentences. Print out each vowel and the number of times it appears in the sentences, such as: a:2, e:1, i:0, etc"
      ]
    },
    {
      "cell_type": "code",
      "execution_count": 48,
      "metadata": {
        "id": "Y0oOSlsOS0cq",
        "colab": {
          "base_uri": "https://localhost:8080/"
        },
        "outputId": "01ba4e79-eb46-4b01-e2f2-ee0118c88bb8"
      },
      "outputs": [
        {
          "output_type": "stream",
          "name": "stdout",
          "text": [
            "Enter your first sentence: Alas! Am I alive? This is my first python program\n",
            "Enter your second sentence: Alas! Am I alive? This is my first python program, I am very excited: 22\n",
            "['Alas', '!', 'Am', 'I', 'alive', '?', 'This', 'is', 'my', 'first', 'python', 'program']\n",
            "['Alas', '!', 'Am', 'I', 'alive', '?', 'This', 'is', 'my', 'first', 'python', 'program', ',', 'I', 'am', 'very', 'excited', ':', '2', '2']\n",
            "{'my', 'This', 'is', 'python', 'first', 'program', 'Alas', 'Am', 'alive', 'I'}\n",
            "Alas Am I alive? This is my first python program\n",
            "Alas Am I alive? This is my first python program I am very excited 22\n",
            "{'a': 7, 'e': 5, 'i': 9, 'o': 4, 'u': 0}\n"
          ]
        }
      ],
      "source": [
        "# Your code here\n",
        "def sen_split(s):\n",
        "  res = []\n",
        "  temp = ''\n",
        "  for i in range(len(s)):\n",
        "    if s[i].isalpha():\n",
        "      temp = temp + s[i]\n",
        "    else:\n",
        "      if temp != '':\n",
        "        res.append(temp)\n",
        "      if s[i] != ' ':\n",
        "        res.append(s[i])\n",
        "      temp = ''\n",
        "  if temp != '':\n",
        "    res.append(temp)\n",
        "  return res\n",
        "    \n",
        "a = input(\"Enter your first sentence: \")\n",
        "b = input(\"Enter your second sentence: \")\n",
        "list1 = sen_split(a)\n",
        "list2 = sen_split(b)\n",
        "print(list1)\n",
        "print(list2)\n",
        "wl1 = {x for x in list1 if x.isalpha()}\n",
        "wl2 = {y for y in list2 if y.isalpha()}\n",
        "print(wl1.intersection(wl2))\n",
        "\n",
        "remov = [\".\", \",\", \":\", \"!\", \";\"]\n",
        "for token in remov:\n",
        "  a = a.replace(token, '')\n",
        "  b = b.replace(token, '')\n",
        "print(a)\n",
        "print(b)\n",
        "\n",
        "keys = ['a', 'e', 'i', 'o', 'u']\n",
        "d1 = {}\n",
        "for key in keys:\n",
        "  d1[key] = a.count(key) + b.count(key)\n",
        "print(d1)\n"
      ]
    },
    {
      "cell_type": "markdown",
      "metadata": {
        "id": "CmFoI4jDS9nx"
      },
      "source": [
        "# Question 3 \n",
        "\n",
        "(15 points). The formula that describes the volume V of a sphere with radius r is the following:\n",
        "\n",
        "$ V=\\frac{4}{3}\\ast\\ \\pi\\ast\\ r^3 $\n",
        "\n",
        "Write a program to calculate the value of V when r is in the range of 1–10. Output the result in the following format:\n",
        "\n",
        "\tr\tV\n",
        "\t1\t…\n",
        "\t2\t…\n",
        "\t3\t…\n"
      ]
    },
    {
      "cell_type": "code",
      "execution_count": 47,
      "metadata": {
        "id": "pEyqeioAT95b",
        "colab": {
          "base_uri": "https://localhost:8080/"
        },
        "outputId": "27bbd7ac-45bd-4e31-b605-6dd42cdb8858"
      },
      "outputs": [
        {
          "output_type": "stream",
          "name": "stdout",
          "text": [
            "r      V\n",
            "1      4.19\n",
            "2      33.51\n",
            "3      113.1\n",
            "4      268.08\n",
            "5      523.6\n",
            "6      904.78\n",
            "7      1436.76\n",
            "8      2144.66\n",
            "9      3053.63\n",
            "10      4188.79\n"
          ]
        }
      ],
      "source": [
        "# Your code here\n",
        "import math\n",
        "print('r      V')\n",
        "for i in range(1,11):\n",
        "  V = (4 * math.pi * i**3) / 3\n",
        "  V = round(V,2)\n",
        "  print('{}      {}'.format(i,V))\n",
        "\n",
        "\n",
        "\n",
        "\n"
      ]
    },
    {
      "cell_type": "code",
      "execution_count": null,
      "metadata": {
        "id": "pMCr3l8tnu0j"
      },
      "outputs": [],
      "source": [
        ""
      ]
    },
    {
      "cell_type": "markdown",
      "metadata": {
        "id": "z3tBE7E-Xn5X"
      },
      "source": [
        "# Question 4\n",
        "\n",
        "(40 points). In the field of Data Science, data is often formatted as a comma-delimited (CSV) file, where each line in a file corresponds to a field's value. Refer to Chapter 9 (p. 106) for more information on comma-delimited files. To answer this question, you will need to download the file [Assignment1_denton_housing.csv](https://raw.githubusercontent.com/unt-iialab/info5731-spring2022/main/assignments/Assignment1_denton_housing.csv) included with this assignment. The file [Assignment1_denton_housing.csv](https://raw.githubusercontent.com/unt-iialab/info5731-spring2022/main/assignments/Assignment1_denton_housing.csv) contains statistics about housing in the city of Denton from 2008 to 2014. Write a program to implement the following questions.\n",
        "\n",
        "(1) (10 pts) Calculate the difference in the number of Occupied Housing Units from year to year and print it. The difference must be calculated for the consecutive years such as 2008-2009, 2009-2010 etc. Finally, print the values in the ascending order.\n",
        "\n",
        "(2) (10 pts) For all the years, calculate the percentage of housing units which are vacant an occupied. Print the results in the following format:\n",
        "\n",
        "Year Vacant Housing Units Occupied Housing Units\n",
        "\n",
        "    2008  30%   70%                          \n",
        "\t2009 ----- -----\n",
        "\t2010 ----- -----\n",
        "    2011 ----- -----\n",
        "\t2012 ----- -----\n",
        "    2013 ----- -----\n",
        "\t2014 ----- -----\n",
        "  \n",
        "  \n",
        "\n",
        "(3) (10 pts) Calculate and print the valued and years in which the highest number of housing units were vacant and occupied. Print the results in the following format:  \n",
        "\n",
        "                              Year\tValue\n",
        "\tVacant Housing Units\t  -----   -----\n",
        "\tOccupied Housing Units\t-----   -----\n",
        "\n",
        "(4) (10 pts) Calculate the harmonic mean of the total housing units and print it out. You can find the information about harmonic mean here: https://ncalculators.com/statistics/harmonic-mean-calculator.htm"
      ]
    },
    {
      "cell_type": "code",
      "execution_count": 46,
      "metadata": {
        "id": "lqGYuHBhcsRH",
        "colab": {
          "base_uri": "https://localhost:8080/"
        },
        "outputId": "f0bcad68-044f-4dba-8cef-fd500b05a267"
      },
      "outputs": [
        {
          "output_type": "stream",
          "name": "stdout",
          "text": [
            "Difference in the number of Occupied Housing Units from year to year\n",
            "\n",
            "2008-2009 : -795\n",
            "2009-2010 : 5091\n",
            "2010-2011 : -303\n",
            "2011-2012 : 1404\n",
            "2012-2013 : 1565\n",
            "2013-2014 : 2622\n",
            "\n",
            "----------------------------------------------\n",
            "\n",
            "Percentage of housing units which are vacant and occupied\n",
            "\n",
            "2008   10.88%   89.12%\n",
            "2009   9.07%   90.93%\n",
            "2010   8.14%   91.86%\n",
            "2011   9.38%   90.62%\n",
            "2012   6.68%   93.32%\n",
            "2013   8.8%   91.2%\n",
            "2014   5.73%   94.27%\n",
            "\n",
            "----------------------------------------------\n",
            "\n",
            "Values and Years in which the highest number of housing units were vacant and occupied\n",
            "\n",
            "                          Year    Value\n",
            "Vacant Housing Units      2008    4483   \n",
            "Occupied Housing Units    2014    46295   \n",
            "\n",
            "----------------------------------------------\n",
            "\n",
            "Harmonic mean: 44398.29\n"
          ]
        }
      ],
      "source": [
        "# Your code here\n",
        "data = {}\n",
        "d1 = {\"Total Housing Units\":3, \"Vacant Housing Units\": 1, \"Occupied Housing Units\": 2, \"Owner Occupied\": 4, \"Renter Occupied\": 5, \"Median Gross Rent\": 6}\n",
        "with open(\"Assignment1_denton_housing.csv\", \"r\") as f:\n",
        "  contents = f.readlines()\n",
        "  for content in contents[1:]:\n",
        "    year, typex, count = content.split(',')\n",
        "    year = int(year)\n",
        "    count = int(count)\n",
        "    typex = d1[typex]\n",
        "    if year not in data:\n",
        "      data[year] = dict()\n",
        "    data[year][typex] = count\n",
        "startye = 2008\n",
        "endye = 2014\n",
        "print(\"Difference in the number of Occupied Housing Units from year to year\")\n",
        "print('')\n",
        "for year in range(startye+1, endye+1):\n",
        "  py = year - 1\n",
        "  print(\"{}-{} : {}\".format(py,year,data[year][2]-data[py][2]))\n",
        "print('')\n",
        "print(\"----------------------------------------------\")\n",
        "print('')\n",
        "print(\"Percentage of housing units which are vacant and occupied\")\n",
        "print('')\n",
        "for year in range(startye, endye+1):\n",
        "  print(\"{}   {}%   {}%\".format(year, round(data[year][1]*100 / data[year][3],2),round(data[year][2]*100 / data[year][3],2)))\n",
        "print('')\n",
        "print(\"----------------------------------------------\")\n",
        "print('')\n",
        "print(\"Values and Years in which the highest number of housing units were vacant and occupied\")\n",
        "print('')\n",
        "y1, v1, y2, v2 = None, -1, None, -1\n",
        "for year in range(startye, endye+1):\n",
        "  if v1 < data[year][1]:\n",
        "    v1 = data[year][1]\n",
        "    y1 = year\n",
        "  if v2 < data[year][2]:\n",
        "    v2 = data[year][2]\n",
        "    y2 = year\n",
        "\n",
        "\n",
        "print(\"                          Year    Value\")\n",
        "print(\"Vacant Housing Units      {}    {}   \".format(y1,v1))\n",
        "print(\"Occupied Housing Units    {}    {}   \".format(y2,v2))\n",
        "print('')\n",
        "print(\"----------------------------------------------\")\n",
        "print('')\n",
        "n = len(data.keys())\n",
        "s = sum([1/data[year][3] for year in range(startye,endye+1)])\n",
        "print(\"Harmonic mean: {}\".format(round(n/s,2)))\n",
        "\n",
        "\n",
        "\n",
        "\n",
        "\n"
      ]
    },
    {
      "cell_type": "code",
      "source": [
        ""
      ],
      "metadata": {
        "id": "wxBkzmxitJnK"
      },
      "execution_count": null,
      "outputs": []
    }
  ],
  "metadata": {
    "colab": {
      "collapsed_sections": [],
      "name": "INFO5731_Assignment_One.ipynb",
      "provenance": []
    },
    "kernelspec": {
      "display_name": "Python 3",
      "language": "python",
      "name": "python3"
    },
    "language_info": {
      "codemirror_mode": {
        "name": "ipython",
        "version": 3
      },
      "file_extension": ".py",
      "mimetype": "text/x-python",
      "name": "python",
      "nbconvert_exporter": "python",
      "pygments_lexer": "ipython3",
      "version": "3.8.5"
    }
  },
  "nbformat": 4,
  "nbformat_minor": 0
}