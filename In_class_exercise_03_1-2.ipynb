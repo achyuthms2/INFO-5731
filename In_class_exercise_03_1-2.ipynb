{
  "cells": [
    {
      "cell_type": "markdown",
      "metadata": {
        "id": "qMNNnzuMV9GA"
      },
      "source": [
        "## The third In-class-exercise (2/22/2022, 40 points in total)"
      ]
    },
    {
      "cell_type": "markdown",
      "metadata": {
        "id": "Ao47q0CNV9GD"
      },
      "source": [
        "The purpose of this exercise is to understand text representation."
      ]
    },
    {
      "cell_type": "markdown",
      "metadata": {
        "id": "URvJv2qBV9GE"
      },
      "source": [
        "Question 1 (10 points): Describe an interesting text classification or text mining task and explain what kind of features might be useful for you to build the machine learning model. List your features and explain why these features might be helpful. You need to list at least five different types of features."
      ]
    },
    {
      "cell_type": "code",
      "execution_count": null,
      "metadata": {
        "id": "Wb0zP2bEV9GE"
      },
      "outputs": [],
      "source": [
        "# Your answer here (no code for this question, write down your answer as detail as possible for the above questions):\n",
        "\n",
        "'''\n",
        "The process of mining the patterns from the text by converting the unstructured text fromat to text forant with the help of machine learning and deep\n",
        "learning algorithms is known as Text Mining. This process can be applied on any form of texts like documents, files etc.\n",
        "\n",
        "I would like to choose IMDB reviews for my text mining using methods like feature extraction. These reviews are very important to build a machine learning\n",
        "system as these type of websites works according to the learnings of each user and suggests accordingly. \n",
        "\n",
        "Nouns in a sentence\n",
        "Adjectives in a sentence\n",
        "Verbs in a sentence\n",
        "Adverbs in a sentence\n",
        "Conjunctions in a sentence\n",
        "\n",
        "\n",
        "\n",
        "'''"
      ]
    },
    {
      "cell_type": "markdown",
      "metadata": {
        "id": "RMvQUvjEV9GF"
      },
      "source": [
        "Question 2 (20 points): Write python code to extract these features you discussed above. You can collect a few sample text data for the feature extraction. "
      ]
    },
    {
      "cell_type": "code",
      "execution_count": null,
      "metadata": {
        "id": "Z5T2FQ_VV9GG"
      },
      "outputs": [],
      "source": [
        "# You code here (Please add comments in the code):\n",
        "import numpy as np\n",
        "import pandas as pd\n",
        "from selenium.webdriver.chrome.options import Options\n",
        "from selenium.webdriver.common.by import By\n",
        "from selenium import webdriver\n",
        "from webdriver_manager.chrome import ChromeDriverManager\n",
        "import time\n",
        "import nltk\n",
        "import re\n",
        "\n",
        "\n",
        "class Mining:\n",
        "\n",
        "    def __init__(self, web_url):\n",
        "        self.url = web_url\n",
        "        options = Options()\n",
        "        options.add_argument('--headless')\n",
        "        options.add_argument('--blink-settings=imagesEnabled=false')\n",
        "        self.driver = webdriver.Chrome('chromedriver', options=options)\n",
        "\n",
        "    def formatting(self, filepath):\n",
        "        df = pd.read_csv(filepath)\n",
        "        df.replace(np.nan, '', inplace=True)\n",
        "        combinedStringList = df['Review'].values.tolist()\n",
        "        preprocessed_List = []\n",
        "        for combinedString in combinedStringList:\n",
        "            text = self.expandContractions(combinedString)\n",
        "            text = self.removeSpChar(text)\n",
        "            text = self.lemmatizeText(text)\n",
        "            text = self.removeSpChar(text)\n",
        "            preprocessed_List.append(text)\n",
        "\n",
        "\n"
      ]
    },
    {
      "cell_type": "markdown",
      "metadata": {
        "id": "POo9G4oXV9GG"
      },
      "source": [
        "Question 3 (10 points): Use any of the feature selection methods mentioned in this paper \"Deng, X., Li, Y., Weng, J., & Zhang, J. (2019). Feature selection for text classification: A review. Multimedia Tools & Applications, 78(3).\" Select the most important features you extracted above, rank the features based on their importance in the descending order. "
      ]
    },
    {
      "cell_type": "code",
      "execution_count": null,
      "metadata": {
        "cellView": "code",
        "id": "N9YnE3CaV9GG"
      },
      "outputs": [],
      "source": [
        "# You code here (Please add comments in the code):\n",
        "\n",
        "import pandas as pd\n",
        "import numpy as np\n",
        "import seaborn as sns\n",
        "\n",
        "\n"
      ]
    }
  ],
  "metadata": {
    "kernelspec": {
      "display_name": "Python 3",
      "language": "python",
      "name": "python3"
    },
    "language_info": {
      "codemirror_mode": {
        "name": "ipython",
        "version": 3
      },
      "file_extension": ".py",
      "mimetype": "text/x-python",
      "name": "python",
      "nbconvert_exporter": "python",
      "pygments_lexer": "ipython3",
      "version": "3.8.5"
    },
    "colab": {
      "name": "In-class-exercise-03-1.ipynb",
      "provenance": [],
      "collapsed_sections": []
    }
  },
  "nbformat": 4,
  "nbformat_minor": 0
}